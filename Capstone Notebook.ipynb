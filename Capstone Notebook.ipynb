{
    "cells": [
        {
            "cell_type": "markdown",
            "metadata": {
                "collapsed": true
            },
            "source": "<h2>Applied Data Science - Capstone Project<h2/>"
        },
        {
            "cell_type": "markdown",
            "metadata": {},
            "source": "This notebook serves as documentation of Applied Data Science Capstone Project. Project main objectives are neighbourhood clustering and segmentation."
        },
        {
            "cell_type": "markdown",
            "metadata": {},
            "source": "Importing libraries"
        },
        {
            "cell_type": "code",
            "execution_count": null,
            "metadata": {},
            "outputs": [],
            "source": "import pandas as pd\nimport numpy as np"
        },
        {
            "cell_type": "code",
            "execution_count": null,
            "metadata": {},
            "outputs": [],
            "source": "print('Hello Capstone Project Course!')"
        }
    ],
    "metadata": {
        "kernelspec": {
            "display_name": "Python 3.6",
            "language": "python",
            "name": "python3"
        }
    },
    "nbformat": 4,
    "nbformat_minor": 1
}